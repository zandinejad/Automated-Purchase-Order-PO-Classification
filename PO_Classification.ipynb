{
 "cells": [
  {
   "cell_type": "markdown",
   "id": "ff04d67d",
   "metadata": {},
   "source": [
    "# Automated Purchase Order (PO) Classification"
   ]
  },
  {
   "cell_type": "code",
   "execution_count": null,
   "id": "3e4f92b9",
   "metadata": {},
   "outputs": [],
   "source": [
    "import os\n",
    "import glob\n",
    "import re\n",
    "import numpy as np\n",
    "import pandas as pd\n",
    "from tqdm import tqdm\n",
    "from sklearn.model_selection import train_test_split\n",
    "from sklearn.feature_extraction.text import TfidfVectorizer\n",
    "from sklearn.preprocessing import LabelEncoder\n",
    "from sklearn.linear_model import LogisticRegression\n",
    "from sklearn.pipeline import Pipeline\n",
    "from sklearn.metrics import classification_report, accuracy_score, f1_score\n",
    "from xgboost import XGBClassifier\n",
    "from scipy.sparse import hstack\n",
    "import torch\n",
    "from torch.utils.data import DataLoader\n",
    "from torch.optim import AdamW\n",
    "from transformers import DistilBertTokenizerFast, DistilBertForSequenceClassification\n",
    "import plotly.express as px"
   ]
  },
  {
   "cell_type": "code",
   "execution_count": 2,
   "id": "155b4689",
   "metadata": {},
   "outputs": [
    {
     "name": "stdout",
     "output_type": "stream",
     "text": [
      "                                      po_description\n",
      "0       RENTS | M N PROPERTY CONSULTANTS | £8,875.00\n",
      "1      MINOR BUILDING WORKS | C E S LTD | £54,065.77\n",
      "2  PROPERTY - WORKS ELEMENT | ELECTRIC CENTER | £...\n",
      "3  MINOR BUILDING WORKS | OPS ENVIRONMENTAL SERVI...\n",
      "4             YOUNG PEOPLES RENTS | HOST | £6,006.00\n"
     ]
    }
   ],
   "source": [
    "# Folder containing your CSV files\n",
    "dataset_path = \"dataset/\"\n",
    "all_files = glob.glob(os.path.join(dataset_path, \"*.csv\"))\n",
    "\n",
    "df_list = []\n",
    "\n",
    "# Function to normalize column names\n",
    "def normalize_columns(df):\n",
    "    df.columns = df.columns.str.strip().str.lower().str.replace(' ', '_')\n",
    "    return df\n",
    "\n",
    "# Load and normalize all files\n",
    "for f in all_files:\n",
    "    try:\n",
    "        temp_df = pd.read_csv(f, encoding='utf-8', index_col=False)\n",
    "    except UnicodeDecodeError:\n",
    "        temp_df = pd.read_csv(f, encoding='ISO-8859-1', index_col=False)\n",
    "    \n",
    "    temp_df = normalize_columns(temp_df)\n",
    "    df_list.append(temp_df)\n",
    "\n",
    "# Combine all CSVs into one DataFrame\n",
    "df = pd.concat(df_list, ignore_index=True)\n",
    "\n",
    "# Ensure important columns exist\n",
    "for col in ['account_name', 'supplier_name', 'total_value']:\n",
    "    if col not in df.columns:\n",
    "        df[col] = \"\"\n",
    "    df[col] = df[col].fillna(\"\").astype(str).str.strip()\n",
    "\n",
    "# Create PO description for NLP\n",
    "df['po_description'] = df['account_name'] + \" | \" + df['supplier_name'] + \" | \" + df['total_value']\n",
    "\n",
    "# Check result\n",
    "print(df[['po_description']].head())"
   ]
  },
  {
   "cell_type": "code",
   "execution_count": 3,
   "id": "2f2eb0e2",
   "metadata": {},
   "outputs": [
    {
     "name": "stdout",
     "output_type": "stream",
     "text": [
      "                                po_description_clean              account_name\n",
      "0            rents m n property consultants 8 875 00                     RENTS\n",
      "1           minor building works c e s ltd 54 065 77      MINOR BUILDING WORKS\n",
      "2   property works element electric center 10 000 00  PROPERTY - WORKS ELEMENT\n",
      "3  minor building works ops environmental service...      MINOR BUILDING WORKS\n",
      "4                  young peoples rents host 6 006 00       YOUNG PEOPLES RENTS\n"
     ]
    }
   ],
   "source": [
    "def clean_text(text):\n",
    "    text = text.lower()  # lowercase\n",
    "    text = re.sub(r'[^a-z0-9\\s]', ' ', text)  # remove punctuation/special chars\n",
    "    text = re.sub(r'\\s+', ' ', text)  # remove extra spaces\n",
    "    return text.strip()\n",
    "\n",
    "df['po_description_clean'] = df['po_description'].apply(clean_text)\n",
    "\n",
    "# Quick look\n",
    "print(df[['po_description_clean', 'account_name']].head())"
   ]
  },
  {
   "cell_type": "code",
   "execution_count": 4,
   "id": "6ee8d7bc",
   "metadata": {},
   "outputs": [
    {
     "name": "stdout",
     "output_type": "stream",
     "text": [
      "Train size: (2208,)\n",
      "Test size: (553,)\n"
     ]
    }
   ],
   "source": [
    "# Keep only labels with at least 2 occurrences\n",
    "label_counts = df['account_name'].value_counts()\n",
    "valid_labels = label_counts[label_counts >= 2].index\n",
    "df_filtered = df[df['account_name'].isin(valid_labels)]\n",
    "\n",
    "X = df_filtered['po_description_clean']\n",
    "y = df_filtered['account_name']\n",
    "\n",
    "from sklearn.model_selection import train_test_split\n",
    "X_train, X_test, y_train, y_test = train_test_split(\n",
    "    X, y, test_size=0.2, random_state=42, stratify=y\n",
    ")\n",
    "\n",
    "print(\"Train size:\", X_train.shape)\n",
    "print(\"Test size:\", X_test.shape)"
   ]
  },
  {
   "cell_type": "code",
   "execution_count": 5,
   "id": "909e7f7c",
   "metadata": {},
   "outputs": [
    {
     "name": "stdout",
     "output_type": "stream",
     "text": [
      "\n",
      "=== Overall Accuracy: 91.86% ===\n",
      "\n",
      "=== Detailed Class Performance ===\n",
      "                                        precision    recall  f1-score   support\n",
      "\n",
      "                         ACCOMMODATION       1.00      1.00      1.00        10\n",
      "                            ACTIVITIES       0.70      1.00      0.82        16\n",
      "                           ADAPTATIONS       0.00      0.00      0.00         1\n",
      "                     ADOPTION PAYMENTS       1.00      1.00      1.00         3\n",
      "                           ADVERTISING       0.00      0.00      0.00         1\n",
      "                          AGENCY STAFF       0.96      1.00      0.98        22\n",
      "                     AGILISYS CONTRACT       1.00      1.00      1.00         1\n",
      "                                  AGMA       0.00      0.00      0.00         1\n",
      "                            ALLOWANCES       0.00      0.00      0.00         1\n",
      "      ASSET MANAGEMENT PLANS & SURVEYS       0.00      0.00      0.00         1\n",
      "                          BANK CHARGES       1.00      1.00      1.00         1\n",
      "                        BASIC SALARIES       1.00      1.00      1.00         1\n",
      "    CAPITAL - STAFFING AGENCY PAYMENTS       1.00      1.00      1.00         2\n",
      "                      CAPITAL SALARIES       1.00      1.00      1.00         6\n",
      "        CLEANING AND DOMESTIC SUPPLIES       0.00      0.00      0.00         1\n",
      "          CLOTHES, UNIFORM AND LAUNDRY       0.00      0.00      0.00         1\n",
      " COMMUNICATION AND COMPUTING - GENERAL       1.00      1.00      1.00         2\n",
      "                     CONDITION SURVEYS       1.00      1.00      1.00         3\n",
      "                       CONSULTANT FEES       1.00      1.00      1.00         5\n",
      "                      CONSULTANTS FEES       0.89      1.00      0.94        17\n",
      "                           CONSUMABLES       1.00      1.00      1.00         4\n",
      "                   CONTRACTED SERVICES       0.94      1.00      0.97        16\n",
      "                             CONTRACTS       0.74      1.00      0.85        14\n",
      "                   COSTS MET BY SCHOOL       0.00      0.00      0.00         1\n",
      "                       DATA COLLECTION       1.00      1.00      1.00         1\n",
      "                       DIRECT PAYMENTS       1.00      1.00      1.00         2\n",
      "    EBD (EMOT & BEHAV DIFF) PLACEMENTS       1.00      1.00      1.00        16\n",
      "                           ELECTRICITY       1.00      1.00      1.00         3\n",
      "                        ENGINEERS FEES       0.00      0.00      0.00         1\n",
      "         ENVIRONMENTAL WORKS LANDSCAPE       1.00      1.00      1.00         6\n",
      "                   EQUIPMENT - GENERAL       0.91      1.00      0.95        10\n",
      "                    EXPENSES - GENERAL       0.88      1.00      0.93         7\n",
      "          EXTERNAL CONTRACTED PRINTING       0.00      0.00      0.00         1\n",
      "              EXTERNALLY MANAGED FUNDS       1.00      1.00      1.00         2\n",
      "                     FEES / COMMISSION       1.00      1.00      1.00         4\n",
      "        FOSTER PARENTS BASIC ALLOWANCE       1.00      1.00      1.00        25\n",
      "                GRANTS TO OTHER BODIES       0.00      0.00      0.00         1\n",
      "    GRANTS TO THE NON VOLUNTARY SECTOR       1.00      1.00      1.00         3\n",
      "        GRANTS TO THE VOLUNTARY SECTOR       1.00      1.00      1.00         2\n",
      " HEALTH AUTH - SERVICE LEVEL AGREEMENT       1.00      1.00      1.00         1\n",
      "            HOME CARE - ADULT SERVICES       1.00      1.00      1.00         2\n",
      "                     HYGIENE EQUIPMENT       0.00      0.00      0.00         1\n",
      "            IMPROVEMENTS-MODERNISATION       0.00      0.00      0.00         1\n",
      "                     INDEPENDENT UNITS       1.00      1.00      1.00         4\n",
      "               INDIVIDUAL SERVICE FUND       0.00      0.00      0.00         1\n",
      "              INPUT VAT -  ADJUSTMENTS       0.00      0.00      0.00         1\n",
      "                        IT MAINTENANCE       1.00      0.67      0.80         3\n",
      "               LEGAL SERVICES EXTERNAL       0.00      0.00      0.00         1\n",
      "                           MAINTENANCE       0.00      0.00      0.00         2\n",
      "                 MARKETING EXPENDITURE       0.00      0.00      0.00         1\n",
      "                                 MEALS       1.00      1.00      1.00         2\n",
      "                          MEDICAL FEES       1.00      1.00      1.00         3\n",
      "                  MINOR BUILDING WORKS       0.78      1.00      0.88        61\n",
      "                      NEW CONSTRUCTION       0.00      0.00      0.00         1\n",
      "                   OCCUPATIONAL HEALTH       1.00      1.00      1.00         1\n",
      "             OTHER EST - SEN PROVISION       1.00      1.00      1.00        14\n",
      "            OTHER LA`S - SEN PROVISION       1.00      1.00      1.00        20\n",
      "               OTHER LOCAL AUTHORITIES       0.00      0.00      0.00         1\n",
      "                OTHER MEDICAL EXPENSES       0.00      0.00      0.00         1\n",
      "                    OTHER POST MORTEMS       0.00      0.00      0.00         1\n",
      "                       PFI SCHEMES RPI       1.00      1.00      1.00         3\n",
      "                      PFI SCHEMES RPIX       1.00      1.00      1.00         8\n",
      "                       PH LCS PAYMENTS       1.00      1.00      1.00         2\n",
      "                    PH OTHER CONTRACTS       1.00      1.00      1.00         9\n",
      "              PH PENNINE CARE CONTRACT       1.00      1.00      1.00         1\n",
      "                               POSTAGE       1.00      1.00      1.00         3\n",
      "                 PRINTING & STATIONERY       1.00      1.00      1.00         3\n",
      "                     PROFESSIONAL FEES       1.00      1.00      1.00         5\n",
      "                              PROJECTS       1.00      0.67      0.80         3\n",
      "              PROPERTY - WORKS ELEMENT       1.00      1.00      1.00        11\n",
      "      PROPERTY REFURBISHMENT (HOUSING)       1.00      1.00      1.00         2\n",
      "                            PROVISIONS       0.00      0.00      0.00         1\n",
      "                             PUBLICITY       0.00      0.00      0.00         2\n",
      "   PURCHASE OF FURNITURE AND EQUIPMENT       1.00      1.00      1.00         3\n",
      "              PURCHASE OF ICT HARDWARE       1.00      1.00      1.00         2\n",
      "              PURCHASE OF ICT SOFTWARE       0.00      0.00      0.00         1\n",
      "                  PURCHASE OF VEHICLES       1.00      1.00      1.00         4\n",
      "               RECRUITMENT AGENCY FEES       0.00      0.00      0.00         1\n",
      "REFERENCE BOOKS/NEWSPAPERS/PERIODICALS       1.00      1.00      1.00         1\n",
      "                       REFUSE DISPOSAL       0.00      0.00      0.00         1\n",
      "                                 RENTS       1.00      1.00      1.00         3\n",
      "           REPAIRS & ALTS OF BUILDINGS       1.00      1.00      1.00         6\n",
      "                 RESIDENTIAL LONG TERM       0.00      0.00      0.00         1\n",
      "                             ROADWORKS       1.00      1.00      1.00         4\n",
      "                              SECURITY       1.00      0.67      0.80         3\n",
      "              SERVICE LEVEL AGREEMENTS       1.00      1.00      1.00         5\n",
      "                    SITE INVESTIGATION       0.00      0.00      0.00         1\n",
      "                 SOCIAL SERVICES OTHER       1.00      1.00      1.00         4\n",
      "                              SOFTWARE       0.75      1.00      0.86        15\n",
      "                     SOFTWARE LICENSES       0.00      0.00      0.00         2\n",
      "                 SPECIFIED MAINTENANCE       1.00      1.00      1.00         3\n",
      "                        STUDENT TRAVEL       0.00      0.00      0.00         1\n",
      "                         SUBSCRIPTIONS       1.00      0.67      0.80         3\n",
      "       SUPPLIES AND SERVICES PROVISION       0.00      0.00      0.00         1\n",
      "                             TAXI HIRE       0.94      1.00      0.97        48\n",
      "                 TELEPHONE EXPENDITURE       1.00      1.00      1.00         2\n",
      "                              TRAINING       1.00      0.75      0.86         4\n",
      "            TRAINING-NON QUALIFICATION       1.00      1.00      1.00         1\n",
      "              TRANSACTIONS-EXPENDITURE       0.92      1.00      0.96        22\n",
      "                   TRANSACTIONS-INCOME       0.00      0.00      0.00         1\n",
      "          TRANSLATION & INTERPRETATION       0.00      0.00      0.00         1\n",
      "           TRAVELLING GENERAL EXPENSES       0.00      0.00      0.00         1\n",
      "                 TREES, SHRUBS, PLANTS       1.00      1.00      1.00         1\n",
      "                                 TYRES       1.00      1.00      1.00         1\n",
      "                VOLUNTARY ASSOCIATIONS       0.00      0.00      0.00         1\n",
      "                         WATER CHARGES       0.00      0.00      0.00         1\n",
      "                   YOUNG PEOPLES RENTS       1.00      1.00      1.00        13\n",
      "\n",
      "                              accuracy                           0.92       553\n",
      "                             macro avg       0.64      0.64      0.64       553\n",
      "                          weighted avg       0.86      0.92      0.89       553\n",
      "\n"
     ]
    }
   ],
   "source": [
    "# Pipeline: TF-IDF vectorizer + Logistic Regression\n",
    "model = Pipeline([\n",
    "    ('tfidf', TfidfVectorizer(max_features=5000, ngram_range=(1,2))),\n",
    "    ('clf', LogisticRegression(max_iter=1000))\n",
    "])\n",
    "\n",
    "# Train the model\n",
    "model.fit(X_train, y_train)\n",
    "\n",
    "# Predict on test set\n",
    "y_pred = model.predict(X_test)\n",
    "\n",
    "# Overall accuracy\n",
    "accuracy = accuracy_score(y_test, y_pred)\n",
    "print(f\"\\n=== Overall Accuracy: {accuracy:.2%} ===\\n\")\n",
    "\n",
    "# Classification report (suppress warnings for rare classes)\n",
    "report = classification_report(y_test, y_pred, zero_division=0)\n",
    "print(\"=== Detailed Class Performance ===\")\n",
    "print(report)"
   ]
  },
  {
   "cell_type": "code",
   "execution_count": 6,
   "id": "85f208b6",
   "metadata": {},
   "outputs": [
    {
     "name": "stdout",
     "output_type": "stream",
     "text": [
      "account_name_clean\n",
      "MINOR BUILDING WORKS              302\n",
      "TAXI HIRE                         238\n",
      "Other                             183\n",
      "FOSTER PARENTS BASIC ALLOWANCE    124\n",
      "AGENCY STAFF                      109\n",
      "                                 ... \n",
      "NEW CONSTRUCTION                    5\n",
      "BANK CHARGES                        5\n",
      "PURCHASE OF ICT SOFTWARE            5\n",
      "TREES, SHRUBS, PLANTS               5\n",
      "SITE INVESTIGATION                  5\n",
      "Name: count, Length: 81, dtype: int64\n"
     ]
    }
   ],
   "source": [
    "# Count labels\n",
    "label_counts = df['account_name'].value_counts()\n",
    "\n",
    "# Define threshold (e.g., less than 5 occurrences = rare)\n",
    "threshold = 5\n",
    "rare_labels = label_counts[label_counts < threshold].index\n",
    "\n",
    "# Replace rare labels with 'Other'\n",
    "df['account_name_clean'] = df['account_name'].apply(lambda x: 'Other' if x in rare_labels else x)\n",
    "\n",
    "# Check counts\n",
    "print(df['account_name_clean'].value_counts())"
   ]
  },
  {
   "cell_type": "code",
   "execution_count": 7,
   "id": "58093f76",
   "metadata": {},
   "outputs": [
    {
     "name": "stdout",
     "output_type": "stream",
     "text": [
      "                                po_description_clean    amount  keyword_rent  \\\n",
      "0            rents m n property consultants 8 875 00   8875.00             1   \n",
      "1           minor building works c e s ltd 54 065 77  54065.77             0   \n",
      "2   property works element electric center 10 000 00  10000.00             0   \n",
      "3  minor building works ops environmental service...  15800.00             0   \n",
      "4                  young peoples rents host 6 006 00   6006.00             1   \n",
      "\n",
      "   keyword_salary  \n",
      "0               0  \n",
      "1               0  \n",
      "2               0  \n",
      "3               0  \n",
      "4               0  \n"
     ]
    }
   ],
   "source": [
    "# Extract numeric value from total_value\n",
    "df['amount'] = df['total_value'].str.replace(r'[^0-9.]', '', regex=True).astype(float)\n",
    "\n",
    "# Flag if the PO description mentions \"rent\" or \"salary\"\n",
    "df['keyword_rent'] = df['po_description_clean'].apply(lambda x: 1 if 'rent' in x else 0)\n",
    "df['keyword_salary'] = df['po_description_clean'].apply(lambda x: 1 if 'salary' in x else 0)\n",
    "\n",
    "# Quick check\n",
    "print(df[['po_description_clean', 'amount', 'keyword_rent', 'keyword_salary']].head())"
   ]
  },
  {
   "cell_type": "code",
   "execution_count": 8,
   "id": "8a457890",
   "metadata": {},
   "outputs": [
    {
     "name": "stderr",
     "output_type": "stream",
     "text": [
      "/Users/hossein/OKCO/lib/python3.13/site-packages/xgboost/training.py:183: UserWarning: [09:16:09] WARNING: /Users/runner/work/xgboost/xgboost/src/learner.cc:738: \n",
      "Parameters: { \"use_label_encoder\" } are not used.\n",
      "\n",
      "  bst.update(dtrain, iteration=i, fobj=obj)\n"
     ]
    },
    {
     "name": "stdout",
     "output_type": "stream",
     "text": [
      "\n",
      "=== Accuracy: 98.39% ===\n",
      "\n",
      "                                        precision    recall  f1-score   support\n",
      "\n",
      "                         ACCOMMODATION       1.00      1.00      1.00        10\n",
      "                            ACTIVITIES       1.00      1.00      1.00        16\n",
      "                     ADOPTION PAYMENTS       1.00      1.00      1.00         3\n",
      "                          AGENCY STAFF       1.00      1.00      1.00        22\n",
      "                     AGILISYS CONTRACT       1.00      1.00      1.00         1\n",
      "      ASSET MANAGEMENT PLANS & SURVEYS       0.00      0.00      0.00         1\n",
      "                          BANK CHARGES       1.00      1.00      1.00         1\n",
      "                        BASIC SALARIES       1.00      1.00      1.00         1\n",
      "    CAPITAL - STAFFING AGENCY PAYMENTS       1.00      1.00      1.00         2\n",
      "                      CAPITAL SALARIES       1.00      1.00      1.00         6\n",
      " COMMUNICATION AND COMPUTING - GENERAL       1.00      1.00      1.00         2\n",
      "                     CONDITION SURVEYS       1.00      1.00      1.00         3\n",
      "                       CONSULTANT FEES       1.00      1.00      1.00         5\n",
      "                      CONSULTANTS FEES       1.00      1.00      1.00        17\n",
      "                           CONSUMABLES       1.00      1.00      1.00         4\n",
      "                   CONTRACTED SERVICES       1.00      1.00      1.00        16\n",
      "                             CONTRACTS       1.00      0.86      0.92        14\n",
      "                       DATA COLLECTION       1.00      1.00      1.00         1\n",
      "                       DIRECT PAYMENTS       1.00      1.00      1.00         2\n",
      "    EBD (EMOT & BEHAV DIFF) PLACEMENTS       1.00      1.00      1.00        15\n",
      "                           ELECTRICITY       0.75      1.00      0.86         3\n",
      "                        ENGINEERS FEES       1.00      1.00      1.00         1\n",
      "         ENVIRONMENTAL WORKS LANDSCAPE       1.00      1.00      1.00         6\n",
      "                   EQUIPMENT - GENERAL       1.00      1.00      1.00        10\n",
      "                    EXPENSES - GENERAL       1.00      1.00      1.00         7\n",
      "              EXTERNALLY MANAGED FUNDS       1.00      1.00      1.00         2\n",
      "                     FEES / COMMISSION       1.00      1.00      1.00         4\n",
      "        FOSTER PARENTS BASIC ALLOWANCE       1.00      1.00      1.00        25\n",
      "    GRANTS TO THE NON VOLUNTARY SECTOR       1.00      1.00      1.00         3\n",
      "        GRANTS TO THE VOLUNTARY SECTOR       1.00      1.00      1.00         2\n",
      " HEALTH AUTH - SERVICE LEVEL AGREEMENT       1.00      1.00      1.00         1\n",
      "            HOME CARE - ADULT SERVICES       1.00      1.00      1.00         2\n",
      "                     INDEPENDENT UNITS       1.00      1.00      1.00         4\n",
      "                        IT MAINTENANCE       1.00      1.00      1.00         3\n",
      "                           MAINTENANCE       0.50      1.00      0.67         2\n",
      "                                 MEALS       1.00      1.00      1.00         2\n",
      "                          MEDICAL FEES       1.00      1.00      1.00         3\n",
      "                  MINOR BUILDING WORKS       1.00      1.00      1.00        61\n",
      "                      NEW CONSTRUCTION       1.00      1.00      1.00         1\n",
      "                   OCCUPATIONAL HEALTH       1.00      1.00      1.00         1\n",
      "             OTHER EST - SEN PROVISION       1.00      1.00      1.00        14\n",
      "            OTHER LA`S - SEN PROVISION       1.00      1.00      1.00        20\n",
      "               OTHER LOCAL AUTHORITIES       1.00      1.00      1.00         1\n",
      "                                 Other       0.88      0.95      0.91        37\n",
      "                       PFI SCHEMES RPI       1.00      1.00      1.00         3\n",
      "                      PFI SCHEMES RPIX       1.00      1.00      1.00         8\n",
      "                       PH LCS PAYMENTS       1.00      1.00      1.00         2\n",
      "                    PH OTHER CONTRACTS       1.00      1.00      1.00         9\n",
      "              PH PENNINE CARE CONTRACT       1.00      1.00      1.00         1\n",
      "                               POSTAGE       1.00      1.00      1.00         3\n",
      "                 PRINTING & STATIONERY       1.00      1.00      1.00         3\n",
      "                     PROFESSIONAL FEES       1.00      1.00      1.00         5\n",
      "                              PROJECTS       1.00      1.00      1.00         3\n",
      "              PROPERTY - WORKS ELEMENT       1.00      1.00      1.00        11\n",
      "      PROPERTY REFURBISHMENT (HOUSING)       1.00      1.00      1.00         2\n",
      "                            PROVISIONS       1.00      1.00      1.00         1\n",
      "                             PUBLICITY       1.00      1.00      1.00         2\n",
      "   PURCHASE OF FURNITURE AND EQUIPMENT       1.00      1.00      1.00         3\n",
      "              PURCHASE OF ICT HARDWARE       1.00      1.00      1.00         2\n",
      "              PURCHASE OF ICT SOFTWARE       0.00      0.00      0.00         1\n",
      "                  PURCHASE OF VEHICLES       1.00      1.00      1.00         4\n",
      "REFERENCE BOOKS/NEWSPAPERS/PERIODICALS       1.00      1.00      1.00         1\n",
      "                                 RENTS       1.00      1.00      1.00         3\n",
      "           REPAIRS & ALTS OF BUILDINGS       1.00      1.00      1.00         5\n",
      "                             ROADWORKS       1.00      1.00      1.00         4\n",
      "                              SECURITY       1.00      1.00      1.00         3\n",
      "              SERVICE LEVEL AGREEMENTS       1.00      1.00      1.00         5\n",
      "                    SITE INVESTIGATION       0.00      0.00      0.00         1\n",
      "                 SOCIAL SERVICES OTHER       1.00      1.00      1.00         4\n",
      "                              SOFTWARE       0.94      1.00      0.97        15\n",
      "                     SOFTWARE LICENSES       1.00      1.00      1.00         2\n",
      "                 SPECIFIED MAINTENANCE       1.00      0.67      0.80         3\n",
      "                         SUBSCRIPTIONS       1.00      1.00      1.00         3\n",
      "                             TAXI HIRE       1.00      1.00      1.00        48\n",
      "                 TELEPHONE EXPENDITURE       1.00      1.00      1.00         2\n",
      "                              TRAINING       1.00      1.00      1.00         4\n",
      "            TRAINING-NON QUALIFICATION       1.00      1.00      1.00         1\n",
      "              TRANSACTIONS-EXPENDITURE       1.00      1.00      1.00        22\n",
      "                 TREES, SHRUBS, PLANTS       0.00      0.00      0.00         1\n",
      "                                 TYRES       1.00      1.00      1.00         1\n",
      "                   YOUNG PEOPLES RENTS       1.00      1.00      1.00        12\n",
      "\n",
      "                              accuracy                           0.98       560\n",
      "                             macro avg       0.94      0.94      0.94       560\n",
      "                          weighted avg       0.98      0.98      0.98       560\n",
      "\n"
     ]
    }
   ],
   "source": [
    "# Split dataset\n",
    "X = df['po_description_clean']\n",
    "y = df['account_name_clean']  # cleaned labels with rare classes handled\n",
    "X_train, X_test, y_train, y_test = train_test_split(\n",
    "    X, y, test_size=0.2, random_state=42, stratify=y\n",
    ")\n",
    "\n",
    "# TF-IDF vectorization\n",
    "tfidf = TfidfVectorizer(max_features=5000, ngram_range=(1,2))\n",
    "X_train_tfidf = tfidf.fit_transform(X_train)\n",
    "X_test_tfidf = tfidf.transform(X_test)\n",
    "\n",
    "# Engineered features\n",
    "X_train_extra = np.stack([\n",
    "    df.loc[X_train.index, 'amount'].fillna(0),\n",
    "    df.loc[X_train.index, 'keyword_rent'].fillna(0),\n",
    "    df.loc[X_train.index, 'keyword_salary'].fillna(0)\n",
    "], axis=1)\n",
    "X_test_extra = np.stack([\n",
    "    df.loc[X_test.index, 'amount'].fillna(0),\n",
    "    df.loc[X_test.index, 'keyword_rent'].fillna(0),\n",
    "    df.loc[X_test.index, 'keyword_salary'].fillna(0)\n",
    "], axis=1)\n",
    "\n",
    "# Combine TF-IDF + engineered features\n",
    "X_train_combined = hstack([X_train_tfidf, X_train_extra])\n",
    "X_test_combined = hstack([X_test_tfidf, X_test_extra])\n",
    "\n",
    "# Encode labels\n",
    "le = LabelEncoder()\n",
    "y_train_enc = le.fit_transform(y_train)\n",
    "y_test_enc = le.transform(y_test)\n",
    "\n",
    "# Train XGBoost classifier\n",
    "xgb_model = XGBClassifier(use_label_encoder=False, eval_metric='mlogloss', random_state=42)\n",
    "xgb_model.fit(X_train_combined, y_train_enc)\n",
    "\n",
    "# Predict & decode labels\n",
    "y_pred_enc = xgb_model.predict(X_test_combined)\n",
    "y_pred = le.inverse_transform(y_pred_enc)\n",
    "\n",
    "# Evaluate\n",
    "print(f\"\\n=== Accuracy: {accuracy_score(y_test, y_pred):.2%} ===\\n\")\n",
    "print(classification_report(y_test, y_pred, zero_division=0))"
   ]
  },
  {
   "cell_type": "code",
   "execution_count": null,
   "id": "700b0afe",
   "metadata": {},
   "outputs": [],
   "source": []
  },
  {
   "cell_type": "code",
   "execution_count": null,
   "id": "a8388194",
   "metadata": {},
   "outputs": [
    {
     "data": {
      "application/vnd.plotly.v1+json": {
       "config": {
        "plotlyServerURL": "https://plot.ly"
       },
       "data": [
        {
         "hovertemplate": "PO Category=%{x}<br>Count=%{y}<br>text=%{text}<extra></extra>",
         "legendgroup": "",
         "marker": {
          "color": "#636efa",
          "pattern": {
           "shape": ""
          }
         },
         "name": "",
         "orientation": "v",
         "showlegend": false,
         "text": {
          "bdata": "AAAAAACATkAAAAAAAABIQAAAAAAAAERAAAAAAAAAOUAAAAAAAAA2QAAAAAAAADZAAAAAAAAANEAAAAAAAAAxQAAAAAAAADBAAAAAAAAAMEAAAAAAAAAwQAAAAAAAAC5AAAAAAAAALEAAAAAAAAAoQAAAAAAAAChAAAAAAAAAJkAAAAAAAAAkQAAAAAAAACRAAAAAAAAAIkAAAAAAAAAgQAAAAAAAABxAAAAAAAAAGEAAAAAAAAAYQAAAAAAAABRAAAAAAAAAFEAAAAAAAAAUQAAAAAAAABRAAAAAAAAAEEAAAAAAAAAQQAAAAAAAABBAAAAAAAAAEEAAAAAAAAAQQAAAAAAAABBAAAAAAAAAEEAAAAAAAAAQQAAAAAAAABBAAAAAAAAACEAAAAAAAAAIQAAAAAAAAAhAAAAAAAAACEAAAAAAAAAIQAAAAAAAAAhAAAAAAAAACEAAAAAAAAAIQAAAAAAAAAhAAAAAAAAACEAAAAAAAAAIQAAAAAAAAAhAAAAAAAAACEAAAAAAAAAAQAAAAAAAAABAAAAAAAAAAEAAAAAAAAAAQAAAAAAAAABAAAAAAAAAAEAAAAAAAAAAQAAAAAAAAABAAAAAAAAAAEAAAAAAAAAAQAAAAAAAAABAAAAAAAAAAEAAAAAAAAAAQAAAAAAAAABAAAAAAAAA8D8AAAAAAADwPwAAAAAAAPA/AAAAAAAA8D8AAAAAAADwPwAAAAAAAPA/AAAAAAAA8D8AAAAAAADwPwAAAAAAAPA/AAAAAAAA8D8AAAAAAADwPwAAAAAAAPA/AAAAAAAA8D8AAAAAAADwPw==",
          "dtype": "f8"
         },
         "textposition": "outside",
         "type": "bar",
         "x": [
          "MINOR BUILDING WORKS",
          "TAXI HIRE",
          "Other",
          "FOSTER PARENTS BASIC ALLOWANCE",
          "AGENCY STAFF",
          "TRANSACTIONS-EXPENDITURE",
          "OTHER LA`S - SEN PROVISION",
          "CONSULTANTS FEES",
          "CONTRACTED SERVICES",
          "SOFTWARE",
          "ACTIVITIES",
          "EBD (EMOT & BEHAV DIFF) PLACEMENTS",
          "OTHER EST - SEN PROVISION",
          "YOUNG PEOPLES RENTS",
          "CONTRACTS",
          "PROPERTY - WORKS ELEMENT",
          "EQUIPMENT - GENERAL",
          "ACCOMMODATION",
          "PH OTHER CONTRACTS",
          "PFI SCHEMES RPIX",
          "EXPENSES - GENERAL",
          "CAPITAL SALARIES",
          "ENVIRONMENTAL WORKS LANDSCAPE",
          "REPAIRS & ALTS OF BUILDINGS",
          "PROFESSIONAL FEES",
          "CONSULTANT FEES",
          "SERVICE LEVEL AGREEMENTS",
          "TRAINING",
          "ROADWORKS",
          "ELECTRICITY",
          "MAINTENANCE",
          "FEES / COMMISSION",
          "INDEPENDENT UNITS",
          "PURCHASE OF VEHICLES",
          "CONSUMABLES",
          "SOCIAL SERVICES OTHER",
          "CONDITION SURVEYS",
          "ADOPTION PAYMENTS",
          "IT MAINTENANCE",
          "PURCHASE OF FURNITURE AND EQUIPMENT",
          "SUBSCRIPTIONS",
          "GRANTS TO THE NON VOLUNTARY SECTOR",
          "MEDICAL FEES",
          "POSTAGE",
          "SECURITY",
          "RENTS",
          "PFI SCHEMES RPI",
          "PROJECTS",
          "PRINTING & STATIONERY",
          "EXTERNALLY MANAGED FUNDS",
          "COMMUNICATION AND COMPUTING - GENERAL",
          "CAPITAL - STAFFING AGENCY PAYMENTS",
          "TELEPHONE EXPENDITURE",
          "SOFTWARE LICENSES",
          "GRANTS TO THE VOLUNTARY SECTOR",
          "PUBLICITY",
          "SPECIFIED MAINTENANCE",
          "MEALS",
          "HOME CARE - ADULT SERVICES",
          "PH LCS PAYMENTS",
          "DIRECT PAYMENTS",
          "PROPERTY REFURBISHMENT (HOUSING)",
          "PURCHASE OF ICT HARDWARE",
          "NEW CONSTRUCTION",
          "DATA COLLECTION",
          "BANK CHARGES",
          "PH PENNINE CARE CONTRACT",
          "REFERENCE BOOKS/NEWSPAPERS/PERIODICALS",
          "AGILISYS CONTRACT",
          "BASIC SALARIES",
          "OCCUPATIONAL HEALTH",
          "TYRES",
          "TRAINING-NON QUALIFICATION",
          "ENGINEERS FEES",
          "OTHER LOCAL AUTHORITIES",
          "PROVISIONS",
          "HEALTH AUTH - SERVICE LEVEL AGREEMENT"
         ],
         "xaxis": "x",
         "y": {
          "bdata": "PTAoGRYWFBEQEBAPDgwMCwoKCQgHBgYFBQUFBAQEBAQEBAQEAwMDAwMDAwMDAwMDAwICAgICAgICAgICAgICAQEBAQEBAQEBAQEBAQE=",
          "dtype": "i1"
         },
         "yaxis": "y"
        }
       ],
       "layout": {
        "barmode": "relative",
        "legend": {
         "tracegroupgap": 0
        },
        "template": {
         "data": {
          "bar": [
           {
            "error_x": {
             "color": "#2a3f5f"
            },
            "error_y": {
             "color": "#2a3f5f"
            },
            "marker": {
             "line": {
              "color": "#E5ECF6",
              "width": 0.5
             },
             "pattern": {
              "fillmode": "overlay",
              "size": 10,
              "solidity": 0.2
             }
            },
            "type": "bar"
           }
          ],
          "barpolar": [
           {
            "marker": {
             "line": {
              "color": "#E5ECF6",
              "width": 0.5
             },
             "pattern": {
              "fillmode": "overlay",
              "size": 10,
              "solidity": 0.2
             }
            },
            "type": "barpolar"
           }
          ],
          "carpet": [
           {
            "aaxis": {
             "endlinecolor": "#2a3f5f",
             "gridcolor": "white",
             "linecolor": "white",
             "minorgridcolor": "white",
             "startlinecolor": "#2a3f5f"
            },
            "baxis": {
             "endlinecolor": "#2a3f5f",
             "gridcolor": "white",
             "linecolor": "white",
             "minorgridcolor": "white",
             "startlinecolor": "#2a3f5f"
            },
            "type": "carpet"
           }
          ],
          "choropleth": [
           {
            "colorbar": {
             "outlinewidth": 0,
             "ticks": ""
            },
            "type": "choropleth"
           }
          ],
          "contour": [
           {
            "colorbar": {
             "outlinewidth": 0,
             "ticks": ""
            },
            "colorscale": [
             [
              0,
              "#0d0887"
             ],
             [
              0.1111111111111111,
              "#46039f"
             ],
             [
              0.2222222222222222,
              "#7201a8"
             ],
             [
              0.3333333333333333,
              "#9c179e"
             ],
             [
              0.4444444444444444,
              "#bd3786"
             ],
             [
              0.5555555555555556,
              "#d8576b"
             ],
             [
              0.6666666666666666,
              "#ed7953"
             ],
             [
              0.7777777777777778,
              "#fb9f3a"
             ],
             [
              0.8888888888888888,
              "#fdca26"
             ],
             [
              1,
              "#f0f921"
             ]
            ],
            "type": "contour"
           }
          ],
          "contourcarpet": [
           {
            "colorbar": {
             "outlinewidth": 0,
             "ticks": ""
            },
            "type": "contourcarpet"
           }
          ],
          "heatmap": [
           {
            "colorbar": {
             "outlinewidth": 0,
             "ticks": ""
            },
            "colorscale": [
             [
              0,
              "#0d0887"
             ],
             [
              0.1111111111111111,
              "#46039f"
             ],
             [
              0.2222222222222222,
              "#7201a8"
             ],
             [
              0.3333333333333333,
              "#9c179e"
             ],
             [
              0.4444444444444444,
              "#bd3786"
             ],
             [
              0.5555555555555556,
              "#d8576b"
             ],
             [
              0.6666666666666666,
              "#ed7953"
             ],
             [
              0.7777777777777778,
              "#fb9f3a"
             ],
             [
              0.8888888888888888,
              "#fdca26"
             ],
             [
              1,
              "#f0f921"
             ]
            ],
            "type": "heatmap"
           }
          ],
          "histogram": [
           {
            "marker": {
             "pattern": {
              "fillmode": "overlay",
              "size": 10,
              "solidity": 0.2
             }
            },
            "type": "histogram"
           }
          ],
          "histogram2d": [
           {
            "colorbar": {
             "outlinewidth": 0,
             "ticks": ""
            },
            "colorscale": [
             [
              0,
              "#0d0887"
             ],
             [
              0.1111111111111111,
              "#46039f"
             ],
             [
              0.2222222222222222,
              "#7201a8"
             ],
             [
              0.3333333333333333,
              "#9c179e"
             ],
             [
              0.4444444444444444,
              "#bd3786"
             ],
             [
              0.5555555555555556,
              "#d8576b"
             ],
             [
              0.6666666666666666,
              "#ed7953"
             ],
             [
              0.7777777777777778,
              "#fb9f3a"
             ],
             [
              0.8888888888888888,
              "#fdca26"
             ],
             [
              1,
              "#f0f921"
             ]
            ],
            "type": "histogram2d"
           }
          ],
          "histogram2dcontour": [
           {
            "colorbar": {
             "outlinewidth": 0,
             "ticks": ""
            },
            "colorscale": [
             [
              0,
              "#0d0887"
             ],
             [
              0.1111111111111111,
              "#46039f"
             ],
             [
              0.2222222222222222,
              "#7201a8"
             ],
             [
              0.3333333333333333,
              "#9c179e"
             ],
             [
              0.4444444444444444,
              "#bd3786"
             ],
             [
              0.5555555555555556,
              "#d8576b"
             ],
             [
              0.6666666666666666,
              "#ed7953"
             ],
             [
              0.7777777777777778,
              "#fb9f3a"
             ],
             [
              0.8888888888888888,
              "#fdca26"
             ],
             [
              1,
              "#f0f921"
             ]
            ],
            "type": "histogram2dcontour"
           }
          ],
          "mesh3d": [
           {
            "colorbar": {
             "outlinewidth": 0,
             "ticks": ""
            },
            "type": "mesh3d"
           }
          ],
          "parcoords": [
           {
            "line": {
             "colorbar": {
              "outlinewidth": 0,
              "ticks": ""
             }
            },
            "type": "parcoords"
           }
          ],
          "pie": [
           {
            "automargin": true,
            "type": "pie"
           }
          ],
          "scatter": [
           {
            "fillpattern": {
             "fillmode": "overlay",
             "size": 10,
             "solidity": 0.2
            },
            "type": "scatter"
           }
          ],
          "scatter3d": [
           {
            "line": {
             "colorbar": {
              "outlinewidth": 0,
              "ticks": ""
             }
            },
            "marker": {
             "colorbar": {
              "outlinewidth": 0,
              "ticks": ""
             }
            },
            "type": "scatter3d"
           }
          ],
          "scattercarpet": [
           {
            "marker": {
             "colorbar": {
              "outlinewidth": 0,
              "ticks": ""
             }
            },
            "type": "scattercarpet"
           }
          ],
          "scattergeo": [
           {
            "marker": {
             "colorbar": {
              "outlinewidth": 0,
              "ticks": ""
             }
            },
            "type": "scattergeo"
           }
          ],
          "scattergl": [
           {
            "marker": {
             "colorbar": {
              "outlinewidth": 0,
              "ticks": ""
             }
            },
            "type": "scattergl"
           }
          ],
          "scattermap": [
           {
            "marker": {
             "colorbar": {
              "outlinewidth": 0,
              "ticks": ""
             }
            },
            "type": "scattermap"
           }
          ],
          "scattermapbox": [
           {
            "marker": {
             "colorbar": {
              "outlinewidth": 0,
              "ticks": ""
             }
            },
            "type": "scattermapbox"
           }
          ],
          "scatterpolar": [
           {
            "marker": {
             "colorbar": {
              "outlinewidth": 0,
              "ticks": ""
             }
            },
            "type": "scatterpolar"
           }
          ],
          "scatterpolargl": [
           {
            "marker": {
             "colorbar": {
              "outlinewidth": 0,
              "ticks": ""
             }
            },
            "type": "scatterpolargl"
           }
          ],
          "scatterternary": [
           {
            "marker": {
             "colorbar": {
              "outlinewidth": 0,
              "ticks": ""
             }
            },
            "type": "scatterternary"
           }
          ],
          "surface": [
           {
            "colorbar": {
             "outlinewidth": 0,
             "ticks": ""
            },
            "colorscale": [
             [
              0,
              "#0d0887"
             ],
             [
              0.1111111111111111,
              "#46039f"
             ],
             [
              0.2222222222222222,
              "#7201a8"
             ],
             [
              0.3333333333333333,
              "#9c179e"
             ],
             [
              0.4444444444444444,
              "#bd3786"
             ],
             [
              0.5555555555555556,
              "#d8576b"
             ],
             [
              0.6666666666666666,
              "#ed7953"
             ],
             [
              0.7777777777777778,
              "#fb9f3a"
             ],
             [
              0.8888888888888888,
              "#fdca26"
             ],
             [
              1,
              "#f0f921"
             ]
            ],
            "type": "surface"
           }
          ],
          "table": [
           {
            "cells": {
             "fill": {
              "color": "#EBF0F8"
             },
             "line": {
              "color": "white"
             }
            },
            "header": {
             "fill": {
              "color": "#C8D4E3"
             },
             "line": {
              "color": "white"
             }
            },
            "type": "table"
           }
          ]
         },
         "layout": {
          "annotationdefaults": {
           "arrowcolor": "#2a3f5f",
           "arrowhead": 0,
           "arrowwidth": 1
          },
          "autotypenumbers": "strict",
          "coloraxis": {
           "colorbar": {
            "outlinewidth": 0,
            "ticks": ""
           }
          },
          "colorscale": {
           "diverging": [
            [
             0,
             "#8e0152"
            ],
            [
             0.1,
             "#c51b7d"
            ],
            [
             0.2,
             "#de77ae"
            ],
            [
             0.3,
             "#f1b6da"
            ],
            [
             0.4,
             "#fde0ef"
            ],
            [
             0.5,
             "#f7f7f7"
            ],
            [
             0.6,
             "#e6f5d0"
            ],
            [
             0.7,
             "#b8e186"
            ],
            [
             0.8,
             "#7fbc41"
            ],
            [
             0.9,
             "#4d9221"
            ],
            [
             1,
             "#276419"
            ]
           ],
           "sequential": [
            [
             0,
             "#0d0887"
            ],
            [
             0.1111111111111111,
             "#46039f"
            ],
            [
             0.2222222222222222,
             "#7201a8"
            ],
            [
             0.3333333333333333,
             "#9c179e"
            ],
            [
             0.4444444444444444,
             "#bd3786"
            ],
            [
             0.5555555555555556,
             "#d8576b"
            ],
            [
             0.6666666666666666,
             "#ed7953"
            ],
            [
             0.7777777777777778,
             "#fb9f3a"
            ],
            [
             0.8888888888888888,
             "#fdca26"
            ],
            [
             1,
             "#f0f921"
            ]
           ],
           "sequentialminus": [
            [
             0,
             "#0d0887"
            ],
            [
             0.1111111111111111,
             "#46039f"
            ],
            [
             0.2222222222222222,
             "#7201a8"
            ],
            [
             0.3333333333333333,
             "#9c179e"
            ],
            [
             0.4444444444444444,
             "#bd3786"
            ],
            [
             0.5555555555555556,
             "#d8576b"
            ],
            [
             0.6666666666666666,
             "#ed7953"
            ],
            [
             0.7777777777777778,
             "#fb9f3a"
            ],
            [
             0.8888888888888888,
             "#fdca26"
            ],
            [
             1,
             "#f0f921"
            ]
           ]
          },
          "colorway": [
           "#636efa",
           "#EF553B",
           "#00cc96",
           "#ab63fa",
           "#FFA15A",
           "#19d3f3",
           "#FF6692",
           "#B6E880",
           "#FF97FF",
           "#FECB52"
          ],
          "font": {
           "color": "#2a3f5f"
          },
          "geo": {
           "bgcolor": "white",
           "lakecolor": "white",
           "landcolor": "#E5ECF6",
           "showlakes": true,
           "showland": true,
           "subunitcolor": "white"
          },
          "hoverlabel": {
           "align": "left"
          },
          "hovermode": "closest",
          "mapbox": {
           "style": "light"
          },
          "paper_bgcolor": "white",
          "plot_bgcolor": "#E5ECF6",
          "polar": {
           "angularaxis": {
            "gridcolor": "white",
            "linecolor": "white",
            "ticks": ""
           },
           "bgcolor": "#E5ECF6",
           "radialaxis": {
            "gridcolor": "white",
            "linecolor": "white",
            "ticks": ""
           }
          },
          "scene": {
           "xaxis": {
            "backgroundcolor": "#E5ECF6",
            "gridcolor": "white",
            "gridwidth": 2,
            "linecolor": "white",
            "showbackground": true,
            "ticks": "",
            "zerolinecolor": "white"
           },
           "yaxis": {
            "backgroundcolor": "#E5ECF6",
            "gridcolor": "white",
            "gridwidth": 2,
            "linecolor": "white",
            "showbackground": true,
            "ticks": "",
            "zerolinecolor": "white"
           },
           "zaxis": {
            "backgroundcolor": "#E5ECF6",
            "gridcolor": "white",
            "gridwidth": 2,
            "linecolor": "white",
            "showbackground": true,
            "ticks": "",
            "zerolinecolor": "white"
           }
          },
          "shapedefaults": {
           "line": {
            "color": "#2a3f5f"
           }
          },
          "ternary": {
           "aaxis": {
            "gridcolor": "white",
            "linecolor": "white",
            "ticks": ""
           },
           "baxis": {
            "gridcolor": "white",
            "linecolor": "white",
            "ticks": ""
           },
           "bgcolor": "#E5ECF6",
           "caxis": {
            "gridcolor": "white",
            "linecolor": "white",
            "ticks": ""
           }
          },
          "title": {
           "x": 0.05
          },
          "xaxis": {
           "automargin": true,
           "gridcolor": "white",
           "linecolor": "white",
           "ticks": "",
           "title": {
            "standoff": 15
           },
           "zerolinecolor": "white",
           "zerolinewidth": 2
          },
          "yaxis": {
           "automargin": true,
           "gridcolor": "white",
           "linecolor": "white",
           "ticks": "",
           "title": {
            "standoff": 15
           },
           "zerolinecolor": "white",
           "zerolinewidth": 2
          }
         }
        },
        "title": {
         "text": "Predicted PO Category Distribution"
        },
        "xaxis": {
         "anchor": "y",
         "domain": [
          0,
          1
         ],
         "tickangle": -45,
         "title": {
          "text": "PO Category"
         }
        },
        "yaxis": {
         "anchor": "x",
         "domain": [
          0,
          1
         ],
         "title": {
          "text": "Count"
         }
        }
       }
      }
     },
     "metadata": {},
     "output_type": "display_data"
    }
   ],
   "source": [
    "# Distribution of predicted labels\n",
    "pred_counts = pd.Series(y_pred).value_counts().sort_values(ascending=False)\n",
    "fig = px.bar(\n",
    "    x=pred_counts.index,\n",
    "    y=pred_counts.values,\n",
    "    text=pred_counts.values,\n",
    "    labels={'x': 'PO Category', 'y': 'Count'},\n",
    "    title='Predicted PO Category Distribution'\n",
    ")\n",
    "\n",
    "fig.update_traces(textposition='outside')\n",
    "fig.update_layout(xaxis_tickangle=-45)\n",
    "fig.show()"
   ]
  },
  {
   "cell_type": "code",
   "execution_count": null,
   "id": "8df2a238",
   "metadata": {},
   "outputs": [
    {
     "data": {
      "application/vnd.plotly.v1+json": {
       "config": {
        "plotlyServerURL": "https://plot.ly"
       },
       "data": [
        {
         "hovertemplate": "Feature=%{x}<br>Importance=%{y}<extra></extra>",
         "legendgroup": "",
         "marker": {
          "color": "#636efa",
          "pattern": {
           "shape": ""
          }
         },
         "name": "",
         "orientation": "v",
         "showlegend": false,
         "textposition": "auto",
         "type": "bar",
         "x": [
          "education",
          "equipment",
          "consultants",
          "to the",
          "ph",
          "peoples",
          "property works",
          "est",
          "contracted services",
          "behav",
          "activities",
          "consultants fees",
          "pfi",
          "service",
          "la",
          "transactions expenditure",
          "agency staff",
          "basic allowance",
          "taxi",
          "building works"
         ],
         "xaxis": "x",
         "y": {
          "bdata": "7kFXO6poZzsGp3E7POObO2ohvTu72QQ8v9wFPC7FZjz9sX48/jGEPAO9jDxK7Ks8KvrePKbM5zwTVQU9hsIUPWIxGT1QgE09Tk5+Pj23oz4=",
          "dtype": "f4"
         },
         "yaxis": "y"
        }
       ],
       "layout": {
        "barmode": "relative",
        "legend": {
         "tracegroupgap": 0
        },
        "template": {
         "data": {
          "bar": [
           {
            "error_x": {
             "color": "#2a3f5f"
            },
            "error_y": {
             "color": "#2a3f5f"
            },
            "marker": {
             "line": {
              "color": "#E5ECF6",
              "width": 0.5
             },
             "pattern": {
              "fillmode": "overlay",
              "size": 10,
              "solidity": 0.2
             }
            },
            "type": "bar"
           }
          ],
          "barpolar": [
           {
            "marker": {
             "line": {
              "color": "#E5ECF6",
              "width": 0.5
             },
             "pattern": {
              "fillmode": "overlay",
              "size": 10,
              "solidity": 0.2
             }
            },
            "type": "barpolar"
           }
          ],
          "carpet": [
           {
            "aaxis": {
             "endlinecolor": "#2a3f5f",
             "gridcolor": "white",
             "linecolor": "white",
             "minorgridcolor": "white",
             "startlinecolor": "#2a3f5f"
            },
            "baxis": {
             "endlinecolor": "#2a3f5f",
             "gridcolor": "white",
             "linecolor": "white",
             "minorgridcolor": "white",
             "startlinecolor": "#2a3f5f"
            },
            "type": "carpet"
           }
          ],
          "choropleth": [
           {
            "colorbar": {
             "outlinewidth": 0,
             "ticks": ""
            },
            "type": "choropleth"
           }
          ],
          "contour": [
           {
            "colorbar": {
             "outlinewidth": 0,
             "ticks": ""
            },
            "colorscale": [
             [
              0,
              "#0d0887"
             ],
             [
              0.1111111111111111,
              "#46039f"
             ],
             [
              0.2222222222222222,
              "#7201a8"
             ],
             [
              0.3333333333333333,
              "#9c179e"
             ],
             [
              0.4444444444444444,
              "#bd3786"
             ],
             [
              0.5555555555555556,
              "#d8576b"
             ],
             [
              0.6666666666666666,
              "#ed7953"
             ],
             [
              0.7777777777777778,
              "#fb9f3a"
             ],
             [
              0.8888888888888888,
              "#fdca26"
             ],
             [
              1,
              "#f0f921"
             ]
            ],
            "type": "contour"
           }
          ],
          "contourcarpet": [
           {
            "colorbar": {
             "outlinewidth": 0,
             "ticks": ""
            },
            "type": "contourcarpet"
           }
          ],
          "heatmap": [
           {
            "colorbar": {
             "outlinewidth": 0,
             "ticks": ""
            },
            "colorscale": [
             [
              0,
              "#0d0887"
             ],
             [
              0.1111111111111111,
              "#46039f"
             ],
             [
              0.2222222222222222,
              "#7201a8"
             ],
             [
              0.3333333333333333,
              "#9c179e"
             ],
             [
              0.4444444444444444,
              "#bd3786"
             ],
             [
              0.5555555555555556,
              "#d8576b"
             ],
             [
              0.6666666666666666,
              "#ed7953"
             ],
             [
              0.7777777777777778,
              "#fb9f3a"
             ],
             [
              0.8888888888888888,
              "#fdca26"
             ],
             [
              1,
              "#f0f921"
             ]
            ],
            "type": "heatmap"
           }
          ],
          "histogram": [
           {
            "marker": {
             "pattern": {
              "fillmode": "overlay",
              "size": 10,
              "solidity": 0.2
             }
            },
            "type": "histogram"
           }
          ],
          "histogram2d": [
           {
            "colorbar": {
             "outlinewidth": 0,
             "ticks": ""
            },
            "colorscale": [
             [
              0,
              "#0d0887"
             ],
             [
              0.1111111111111111,
              "#46039f"
             ],
             [
              0.2222222222222222,
              "#7201a8"
             ],
             [
              0.3333333333333333,
              "#9c179e"
             ],
             [
              0.4444444444444444,
              "#bd3786"
             ],
             [
              0.5555555555555556,
              "#d8576b"
             ],
             [
              0.6666666666666666,
              "#ed7953"
             ],
             [
              0.7777777777777778,
              "#fb9f3a"
             ],
             [
              0.8888888888888888,
              "#fdca26"
             ],
             [
              1,
              "#f0f921"
             ]
            ],
            "type": "histogram2d"
           }
          ],
          "histogram2dcontour": [
           {
            "colorbar": {
             "outlinewidth": 0,
             "ticks": ""
            },
            "colorscale": [
             [
              0,
              "#0d0887"
             ],
             [
              0.1111111111111111,
              "#46039f"
             ],
             [
              0.2222222222222222,
              "#7201a8"
             ],
             [
              0.3333333333333333,
              "#9c179e"
             ],
             [
              0.4444444444444444,
              "#bd3786"
             ],
             [
              0.5555555555555556,
              "#d8576b"
             ],
             [
              0.6666666666666666,
              "#ed7953"
             ],
             [
              0.7777777777777778,
              "#fb9f3a"
             ],
             [
              0.8888888888888888,
              "#fdca26"
             ],
             [
              1,
              "#f0f921"
             ]
            ],
            "type": "histogram2dcontour"
           }
          ],
          "mesh3d": [
           {
            "colorbar": {
             "outlinewidth": 0,
             "ticks": ""
            },
            "type": "mesh3d"
           }
          ],
          "parcoords": [
           {
            "line": {
             "colorbar": {
              "outlinewidth": 0,
              "ticks": ""
             }
            },
            "type": "parcoords"
           }
          ],
          "pie": [
           {
            "automargin": true,
            "type": "pie"
           }
          ],
          "scatter": [
           {
            "fillpattern": {
             "fillmode": "overlay",
             "size": 10,
             "solidity": 0.2
            },
            "type": "scatter"
           }
          ],
          "scatter3d": [
           {
            "line": {
             "colorbar": {
              "outlinewidth": 0,
              "ticks": ""
             }
            },
            "marker": {
             "colorbar": {
              "outlinewidth": 0,
              "ticks": ""
             }
            },
            "type": "scatter3d"
           }
          ],
          "scattercarpet": [
           {
            "marker": {
             "colorbar": {
              "outlinewidth": 0,
              "ticks": ""
             }
            },
            "type": "scattercarpet"
           }
          ],
          "scattergeo": [
           {
            "marker": {
             "colorbar": {
              "outlinewidth": 0,
              "ticks": ""
             }
            },
            "type": "scattergeo"
           }
          ],
          "scattergl": [
           {
            "marker": {
             "colorbar": {
              "outlinewidth": 0,
              "ticks": ""
             }
            },
            "type": "scattergl"
           }
          ],
          "scattermap": [
           {
            "marker": {
             "colorbar": {
              "outlinewidth": 0,
              "ticks": ""
             }
            },
            "type": "scattermap"
           }
          ],
          "scattermapbox": [
           {
            "marker": {
             "colorbar": {
              "outlinewidth": 0,
              "ticks": ""
             }
            },
            "type": "scattermapbox"
           }
          ],
          "scatterpolar": [
           {
            "marker": {
             "colorbar": {
              "outlinewidth": 0,
              "ticks": ""
             }
            },
            "type": "scatterpolar"
           }
          ],
          "scatterpolargl": [
           {
            "marker": {
             "colorbar": {
              "outlinewidth": 0,
              "ticks": ""
             }
            },
            "type": "scatterpolargl"
           }
          ],
          "scatterternary": [
           {
            "marker": {
             "colorbar": {
              "outlinewidth": 0,
              "ticks": ""
             }
            },
            "type": "scatterternary"
           }
          ],
          "surface": [
           {
            "colorbar": {
             "outlinewidth": 0,
             "ticks": ""
            },
            "colorscale": [
             [
              0,
              "#0d0887"
             ],
             [
              0.1111111111111111,
              "#46039f"
             ],
             [
              0.2222222222222222,
              "#7201a8"
             ],
             [
              0.3333333333333333,
              "#9c179e"
             ],
             [
              0.4444444444444444,
              "#bd3786"
             ],
             [
              0.5555555555555556,
              "#d8576b"
             ],
             [
              0.6666666666666666,
              "#ed7953"
             ],
             [
              0.7777777777777778,
              "#fb9f3a"
             ],
             [
              0.8888888888888888,
              "#fdca26"
             ],
             [
              1,
              "#f0f921"
             ]
            ],
            "type": "surface"
           }
          ],
          "table": [
           {
            "cells": {
             "fill": {
              "color": "#EBF0F8"
             },
             "line": {
              "color": "white"
             }
            },
            "header": {
             "fill": {
              "color": "#C8D4E3"
             },
             "line": {
              "color": "white"
             }
            },
            "type": "table"
           }
          ]
         },
         "layout": {
          "annotationdefaults": {
           "arrowcolor": "#2a3f5f",
           "arrowhead": 0,
           "arrowwidth": 1
          },
          "autotypenumbers": "strict",
          "coloraxis": {
           "colorbar": {
            "outlinewidth": 0,
            "ticks": ""
           }
          },
          "colorscale": {
           "diverging": [
            [
             0,
             "#8e0152"
            ],
            [
             0.1,
             "#c51b7d"
            ],
            [
             0.2,
             "#de77ae"
            ],
            [
             0.3,
             "#f1b6da"
            ],
            [
             0.4,
             "#fde0ef"
            ],
            [
             0.5,
             "#f7f7f7"
            ],
            [
             0.6,
             "#e6f5d0"
            ],
            [
             0.7,
             "#b8e186"
            ],
            [
             0.8,
             "#7fbc41"
            ],
            [
             0.9,
             "#4d9221"
            ],
            [
             1,
             "#276419"
            ]
           ],
           "sequential": [
            [
             0,
             "#0d0887"
            ],
            [
             0.1111111111111111,
             "#46039f"
            ],
            [
             0.2222222222222222,
             "#7201a8"
            ],
            [
             0.3333333333333333,
             "#9c179e"
            ],
            [
             0.4444444444444444,
             "#bd3786"
            ],
            [
             0.5555555555555556,
             "#d8576b"
            ],
            [
             0.6666666666666666,
             "#ed7953"
            ],
            [
             0.7777777777777778,
             "#fb9f3a"
            ],
            [
             0.8888888888888888,
             "#fdca26"
            ],
            [
             1,
             "#f0f921"
            ]
           ],
           "sequentialminus": [
            [
             0,
             "#0d0887"
            ],
            [
             0.1111111111111111,
             "#46039f"
            ],
            [
             0.2222222222222222,
             "#7201a8"
            ],
            [
             0.3333333333333333,
             "#9c179e"
            ],
            [
             0.4444444444444444,
             "#bd3786"
            ],
            [
             0.5555555555555556,
             "#d8576b"
            ],
            [
             0.6666666666666666,
             "#ed7953"
            ],
            [
             0.7777777777777778,
             "#fb9f3a"
            ],
            [
             0.8888888888888888,
             "#fdca26"
            ],
            [
             1,
             "#f0f921"
            ]
           ]
          },
          "colorway": [
           "#636efa",
           "#EF553B",
           "#00cc96",
           "#ab63fa",
           "#FFA15A",
           "#19d3f3",
           "#FF6692",
           "#B6E880",
           "#FF97FF",
           "#FECB52"
          ],
          "font": {
           "color": "#2a3f5f"
          },
          "geo": {
           "bgcolor": "white",
           "lakecolor": "white",
           "landcolor": "#E5ECF6",
           "showlakes": true,
           "showland": true,
           "subunitcolor": "white"
          },
          "hoverlabel": {
           "align": "left"
          },
          "hovermode": "closest",
          "mapbox": {
           "style": "light"
          },
          "paper_bgcolor": "white",
          "plot_bgcolor": "#E5ECF6",
          "polar": {
           "angularaxis": {
            "gridcolor": "white",
            "linecolor": "white",
            "ticks": ""
           },
           "bgcolor": "#E5ECF6",
           "radialaxis": {
            "gridcolor": "white",
            "linecolor": "white",
            "ticks": ""
           }
          },
          "scene": {
           "xaxis": {
            "backgroundcolor": "#E5ECF6",
            "gridcolor": "white",
            "gridwidth": 2,
            "linecolor": "white",
            "showbackground": true,
            "ticks": "",
            "zerolinecolor": "white"
           },
           "yaxis": {
            "backgroundcolor": "#E5ECF6",
            "gridcolor": "white",
            "gridwidth": 2,
            "linecolor": "white",
            "showbackground": true,
            "ticks": "",
            "zerolinecolor": "white"
           },
           "zaxis": {
            "backgroundcolor": "#E5ECF6",
            "gridcolor": "white",
            "gridwidth": 2,
            "linecolor": "white",
            "showbackground": true,
            "ticks": "",
            "zerolinecolor": "white"
           }
          },
          "shapedefaults": {
           "line": {
            "color": "#2a3f5f"
           }
          },
          "ternary": {
           "aaxis": {
            "gridcolor": "white",
            "linecolor": "white",
            "ticks": ""
           },
           "baxis": {
            "gridcolor": "white",
            "linecolor": "white",
            "ticks": ""
           },
           "bgcolor": "#E5ECF6",
           "caxis": {
            "gridcolor": "white",
            "linecolor": "white",
            "ticks": ""
           }
          },
          "title": {
           "x": 0.05
          },
          "xaxis": {
           "automargin": true,
           "gridcolor": "white",
           "linecolor": "white",
           "ticks": "",
           "title": {
            "standoff": 15
           },
           "zerolinecolor": "white",
           "zerolinewidth": 2
          },
          "yaxis": {
           "automargin": true,
           "gridcolor": "white",
           "linecolor": "white",
           "ticks": "",
           "title": {
            "standoff": 15
           },
           "zerolinecolor": "white",
           "zerolinewidth": 2
          }
         }
        },
        "title": {
         "text": "Top 20 TF-IDF Features"
        },
        "xaxis": {
         "anchor": "y",
         "domain": [
          0,
          1
         ],
         "tickangle": -45,
         "title": {
          "text": "Feature"
         }
        },
        "yaxis": {
         "anchor": "x",
         "domain": [
          0,
          1
         ],
         "title": {
          "text": "Importance"
         }
        }
       }
      }
     },
     "metadata": {},
     "output_type": "display_data"
    }
   ],
   "source": [
    "# Get feature names from TF-IDF\n",
    "feature_names = tfidf.get_feature_names_out()\n",
    "# Get average importance per feature (approximation using model coefficients)\n",
    "# Only works if using linear model; for tree-based models, we need feature_importances_\n",
    "# Here we use XGBoost feature importance\n",
    "importances = xgb_model.feature_importances_[:len(feature_names)]\n",
    "top_idx = np.argsort(importances)[-20:]  # top 20\n",
    "top_features = [feature_names[i] for i in top_idx]\n",
    "top_importances = importances[top_idx]\n",
    "\n",
    "fig = px.bar(\n",
    "    x=top_features,\n",
    "    y=top_importances,\n",
    "    labels={'x': 'Feature', 'y': 'Importance'},\n",
    "    title='Top 20 TF-IDF Features'\n",
    ")\n",
    "fig.update_layout(xaxis_tickangle=-45)\n",
    "fig.show()"
   ]
  },
  {
   "cell_type": "code",
   "execution_count": null,
   "id": "e703bee5",
   "metadata": {},
   "outputs": [
    {
     "data": {
      "application/vnd.plotly.v1+json": {
       "config": {
        "plotlyServerURL": "https://plot.ly"
       },
       "data": [
        {
         "alignmentgroup": "True",
         "hovertemplate": "Model=Logistic Regression<br>Metric=%{x}<br>Score (%)=%{text}<extra></extra>",
         "legendgroup": "Logistic Regression",
         "marker": {
          "color": "#636efa",
          "pattern": {
           "shape": ""
          }
         },
         "name": "Logistic Regression",
         "offsetgroup": "Logistic Regression",
         "orientation": "v",
         "showlegend": true,
         "text": {
          "bdata": "kiRJkiS5VkC9L6IElRNVQCaepTNKwVVA",
          "dtype": "f8"
         },
         "textposition": "outside",
         "texttemplate": "%{text:.2f}%",
         "type": "bar",
         "x": [
          "Accuracy",
          "Macro F1",
          "Weighted F1"
         ],
         "xaxis": "x",
         "y": {
          "bdata": "kiRJkiS5VkC9L6IElRNVQCaepTNKwVVA",
          "dtype": "f8"
         },
         "yaxis": "y"
        },
        {
         "alignmentgroup": "True",
         "hovertemplate": "Model=XGBoost<br>Metric=%{x}<br>Score (%)=%{text}<extra></extra>",
         "legendgroup": "XGBoost",
         "marker": {
          "color": "#EF553B",
          "pattern": {
           "shape": ""
          }
         },
         "name": "XGBoost",
         "offsetgroup": "XGBoost",
         "orientation": "v",
         "showlegend": true,
         "text": {
          "bdata": "kiRJkiSZWEBhs/+vtn5XQI+hV+KhhlhA",
          "dtype": "f8"
         },
         "textposition": "outside",
         "texttemplate": "%{text:.2f}%",
         "type": "bar",
         "x": [
          "Accuracy",
          "Macro F1",
          "Weighted F1"
         ],
         "xaxis": "x",
         "y": {
          "bdata": "kiRJkiSZWEBhs/+vtn5XQI+hV+KhhlhA",
          "dtype": "f8"
         },
         "yaxis": "y"
        }
       ],
       "layout": {
        "barmode": "group",
        "legend": {
         "title": {
          "text": "Model"
         },
         "tracegroupgap": 0
        },
        "template": {
         "data": {
          "bar": [
           {
            "error_x": {
             "color": "#2a3f5f"
            },
            "error_y": {
             "color": "#2a3f5f"
            },
            "marker": {
             "line": {
              "color": "#E5ECF6",
              "width": 0.5
             },
             "pattern": {
              "fillmode": "overlay",
              "size": 10,
              "solidity": 0.2
             }
            },
            "type": "bar"
           }
          ],
          "barpolar": [
           {
            "marker": {
             "line": {
              "color": "#E5ECF6",
              "width": 0.5
             },
             "pattern": {
              "fillmode": "overlay",
              "size": 10,
              "solidity": 0.2
             }
            },
            "type": "barpolar"
           }
          ],
          "carpet": [
           {
            "aaxis": {
             "endlinecolor": "#2a3f5f",
             "gridcolor": "white",
             "linecolor": "white",
             "minorgridcolor": "white",
             "startlinecolor": "#2a3f5f"
            },
            "baxis": {
             "endlinecolor": "#2a3f5f",
             "gridcolor": "white",
             "linecolor": "white",
             "minorgridcolor": "white",
             "startlinecolor": "#2a3f5f"
            },
            "type": "carpet"
           }
          ],
          "choropleth": [
           {
            "colorbar": {
             "outlinewidth": 0,
             "ticks": ""
            },
            "type": "choropleth"
           }
          ],
          "contour": [
           {
            "colorbar": {
             "outlinewidth": 0,
             "ticks": ""
            },
            "colorscale": [
             [
              0,
              "#0d0887"
             ],
             [
              0.1111111111111111,
              "#46039f"
             ],
             [
              0.2222222222222222,
              "#7201a8"
             ],
             [
              0.3333333333333333,
              "#9c179e"
             ],
             [
              0.4444444444444444,
              "#bd3786"
             ],
             [
              0.5555555555555556,
              "#d8576b"
             ],
             [
              0.6666666666666666,
              "#ed7953"
             ],
             [
              0.7777777777777778,
              "#fb9f3a"
             ],
             [
              0.8888888888888888,
              "#fdca26"
             ],
             [
              1,
              "#f0f921"
             ]
            ],
            "type": "contour"
           }
          ],
          "contourcarpet": [
           {
            "colorbar": {
             "outlinewidth": 0,
             "ticks": ""
            },
            "type": "contourcarpet"
           }
          ],
          "heatmap": [
           {
            "colorbar": {
             "outlinewidth": 0,
             "ticks": ""
            },
            "colorscale": [
             [
              0,
              "#0d0887"
             ],
             [
              0.1111111111111111,
              "#46039f"
             ],
             [
              0.2222222222222222,
              "#7201a8"
             ],
             [
              0.3333333333333333,
              "#9c179e"
             ],
             [
              0.4444444444444444,
              "#bd3786"
             ],
             [
              0.5555555555555556,
              "#d8576b"
             ],
             [
              0.6666666666666666,
              "#ed7953"
             ],
             [
              0.7777777777777778,
              "#fb9f3a"
             ],
             [
              0.8888888888888888,
              "#fdca26"
             ],
             [
              1,
              "#f0f921"
             ]
            ],
            "type": "heatmap"
           }
          ],
          "histogram": [
           {
            "marker": {
             "pattern": {
              "fillmode": "overlay",
              "size": 10,
              "solidity": 0.2
             }
            },
            "type": "histogram"
           }
          ],
          "histogram2d": [
           {
            "colorbar": {
             "outlinewidth": 0,
             "ticks": ""
            },
            "colorscale": [
             [
              0,
              "#0d0887"
             ],
             [
              0.1111111111111111,
              "#46039f"
             ],
             [
              0.2222222222222222,
              "#7201a8"
             ],
             [
              0.3333333333333333,
              "#9c179e"
             ],
             [
              0.4444444444444444,
              "#bd3786"
             ],
             [
              0.5555555555555556,
              "#d8576b"
             ],
             [
              0.6666666666666666,
              "#ed7953"
             ],
             [
              0.7777777777777778,
              "#fb9f3a"
             ],
             [
              0.8888888888888888,
              "#fdca26"
             ],
             [
              1,
              "#f0f921"
             ]
            ],
            "type": "histogram2d"
           }
          ],
          "histogram2dcontour": [
           {
            "colorbar": {
             "outlinewidth": 0,
             "ticks": ""
            },
            "colorscale": [
             [
              0,
              "#0d0887"
             ],
             [
              0.1111111111111111,
              "#46039f"
             ],
             [
              0.2222222222222222,
              "#7201a8"
             ],
             [
              0.3333333333333333,
              "#9c179e"
             ],
             [
              0.4444444444444444,
              "#bd3786"
             ],
             [
              0.5555555555555556,
              "#d8576b"
             ],
             [
              0.6666666666666666,
              "#ed7953"
             ],
             [
              0.7777777777777778,
              "#fb9f3a"
             ],
             [
              0.8888888888888888,
              "#fdca26"
             ],
             [
              1,
              "#f0f921"
             ]
            ],
            "type": "histogram2dcontour"
           }
          ],
          "mesh3d": [
           {
            "colorbar": {
             "outlinewidth": 0,
             "ticks": ""
            },
            "type": "mesh3d"
           }
          ],
          "parcoords": [
           {
            "line": {
             "colorbar": {
              "outlinewidth": 0,
              "ticks": ""
             }
            },
            "type": "parcoords"
           }
          ],
          "pie": [
           {
            "automargin": true,
            "type": "pie"
           }
          ],
          "scatter": [
           {
            "fillpattern": {
             "fillmode": "overlay",
             "size": 10,
             "solidity": 0.2
            },
            "type": "scatter"
           }
          ],
          "scatter3d": [
           {
            "line": {
             "colorbar": {
              "outlinewidth": 0,
              "ticks": ""
             }
            },
            "marker": {
             "colorbar": {
              "outlinewidth": 0,
              "ticks": ""
             }
            },
            "type": "scatter3d"
           }
          ],
          "scattercarpet": [
           {
            "marker": {
             "colorbar": {
              "outlinewidth": 0,
              "ticks": ""
             }
            },
            "type": "scattercarpet"
           }
          ],
          "scattergeo": [
           {
            "marker": {
             "colorbar": {
              "outlinewidth": 0,
              "ticks": ""
             }
            },
            "type": "scattergeo"
           }
          ],
          "scattergl": [
           {
            "marker": {
             "colorbar": {
              "outlinewidth": 0,
              "ticks": ""
             }
            },
            "type": "scattergl"
           }
          ],
          "scattermap": [
           {
            "marker": {
             "colorbar": {
              "outlinewidth": 0,
              "ticks": ""
             }
            },
            "type": "scattermap"
           }
          ],
          "scattermapbox": [
           {
            "marker": {
             "colorbar": {
              "outlinewidth": 0,
              "ticks": ""
             }
            },
            "type": "scattermapbox"
           }
          ],
          "scatterpolar": [
           {
            "marker": {
             "colorbar": {
              "outlinewidth": 0,
              "ticks": ""
             }
            },
            "type": "scatterpolar"
           }
          ],
          "scatterpolargl": [
           {
            "marker": {
             "colorbar": {
              "outlinewidth": 0,
              "ticks": ""
             }
            },
            "type": "scatterpolargl"
           }
          ],
          "scatterternary": [
           {
            "marker": {
             "colorbar": {
              "outlinewidth": 0,
              "ticks": ""
             }
            },
            "type": "scatterternary"
           }
          ],
          "surface": [
           {
            "colorbar": {
             "outlinewidth": 0,
             "ticks": ""
            },
            "colorscale": [
             [
              0,
              "#0d0887"
             ],
             [
              0.1111111111111111,
              "#46039f"
             ],
             [
              0.2222222222222222,
              "#7201a8"
             ],
             [
              0.3333333333333333,
              "#9c179e"
             ],
             [
              0.4444444444444444,
              "#bd3786"
             ],
             [
              0.5555555555555556,
              "#d8576b"
             ],
             [
              0.6666666666666666,
              "#ed7953"
             ],
             [
              0.7777777777777778,
              "#fb9f3a"
             ],
             [
              0.8888888888888888,
              "#fdca26"
             ],
             [
              1,
              "#f0f921"
             ]
            ],
            "type": "surface"
           }
          ],
          "table": [
           {
            "cells": {
             "fill": {
              "color": "#EBF0F8"
             },
             "line": {
              "color": "white"
             }
            },
            "header": {
             "fill": {
              "color": "#C8D4E3"
             },
             "line": {
              "color": "white"
             }
            },
            "type": "table"
           }
          ]
         },
         "layout": {
          "annotationdefaults": {
           "arrowcolor": "#2a3f5f",
           "arrowhead": 0,
           "arrowwidth": 1
          },
          "autotypenumbers": "strict",
          "coloraxis": {
           "colorbar": {
            "outlinewidth": 0,
            "ticks": ""
           }
          },
          "colorscale": {
           "diverging": [
            [
             0,
             "#8e0152"
            ],
            [
             0.1,
             "#c51b7d"
            ],
            [
             0.2,
             "#de77ae"
            ],
            [
             0.3,
             "#f1b6da"
            ],
            [
             0.4,
             "#fde0ef"
            ],
            [
             0.5,
             "#f7f7f7"
            ],
            [
             0.6,
             "#e6f5d0"
            ],
            [
             0.7,
             "#b8e186"
            ],
            [
             0.8,
             "#7fbc41"
            ],
            [
             0.9,
             "#4d9221"
            ],
            [
             1,
             "#276419"
            ]
           ],
           "sequential": [
            [
             0,
             "#0d0887"
            ],
            [
             0.1111111111111111,
             "#46039f"
            ],
            [
             0.2222222222222222,
             "#7201a8"
            ],
            [
             0.3333333333333333,
             "#9c179e"
            ],
            [
             0.4444444444444444,
             "#bd3786"
            ],
            [
             0.5555555555555556,
             "#d8576b"
            ],
            [
             0.6666666666666666,
             "#ed7953"
            ],
            [
             0.7777777777777778,
             "#fb9f3a"
            ],
            [
             0.8888888888888888,
             "#fdca26"
            ],
            [
             1,
             "#f0f921"
            ]
           ],
           "sequentialminus": [
            [
             0,
             "#0d0887"
            ],
            [
             0.1111111111111111,
             "#46039f"
            ],
            [
             0.2222222222222222,
             "#7201a8"
            ],
            [
             0.3333333333333333,
             "#9c179e"
            ],
            [
             0.4444444444444444,
             "#bd3786"
            ],
            [
             0.5555555555555556,
             "#d8576b"
            ],
            [
             0.6666666666666666,
             "#ed7953"
            ],
            [
             0.7777777777777778,
             "#fb9f3a"
            ],
            [
             0.8888888888888888,
             "#fdca26"
            ],
            [
             1,
             "#f0f921"
            ]
           ]
          },
          "colorway": [
           "#636efa",
           "#EF553B",
           "#00cc96",
           "#ab63fa",
           "#FFA15A",
           "#19d3f3",
           "#FF6692",
           "#B6E880",
           "#FF97FF",
           "#FECB52"
          ],
          "font": {
           "color": "#2a3f5f"
          },
          "geo": {
           "bgcolor": "white",
           "lakecolor": "white",
           "landcolor": "#E5ECF6",
           "showlakes": true,
           "showland": true,
           "subunitcolor": "white"
          },
          "hoverlabel": {
           "align": "left"
          },
          "hovermode": "closest",
          "mapbox": {
           "style": "light"
          },
          "paper_bgcolor": "white",
          "plot_bgcolor": "#E5ECF6",
          "polar": {
           "angularaxis": {
            "gridcolor": "white",
            "linecolor": "white",
            "ticks": ""
           },
           "bgcolor": "#E5ECF6",
           "radialaxis": {
            "gridcolor": "white",
            "linecolor": "white",
            "ticks": ""
           }
          },
          "scene": {
           "xaxis": {
            "backgroundcolor": "#E5ECF6",
            "gridcolor": "white",
            "gridwidth": 2,
            "linecolor": "white",
            "showbackground": true,
            "ticks": "",
            "zerolinecolor": "white"
           },
           "yaxis": {
            "backgroundcolor": "#E5ECF6",
            "gridcolor": "white",
            "gridwidth": 2,
            "linecolor": "white",
            "showbackground": true,
            "ticks": "",
            "zerolinecolor": "white"
           },
           "zaxis": {
            "backgroundcolor": "#E5ECF6",
            "gridcolor": "white",
            "gridwidth": 2,
            "linecolor": "white",
            "showbackground": true,
            "ticks": "",
            "zerolinecolor": "white"
           }
          },
          "shapedefaults": {
           "line": {
            "color": "#2a3f5f"
           }
          },
          "ternary": {
           "aaxis": {
            "gridcolor": "white",
            "linecolor": "white",
            "ticks": ""
           },
           "baxis": {
            "gridcolor": "white",
            "linecolor": "white",
            "ticks": ""
           },
           "bgcolor": "#E5ECF6",
           "caxis": {
            "gridcolor": "white",
            "linecolor": "white",
            "ticks": ""
           }
          },
          "title": {
           "x": 0.05
          },
          "xaxis": {
           "automargin": true,
           "gridcolor": "white",
           "linecolor": "white",
           "ticks": "",
           "title": {
            "standoff": 15
           },
           "zerolinecolor": "white",
           "zerolinewidth": 2
          },
          "yaxis": {
           "automargin": true,
           "gridcolor": "white",
           "linecolor": "white",
           "ticks": "",
           "title": {
            "standoff": 15
           },
           "zerolinecolor": "white",
           "zerolinewidth": 2
          }
         }
        },
        "title": {
         "text": "Model Performance Comparison: Logistic Regression vs XGBoost"
        },
        "xaxis": {
         "anchor": "y",
         "domain": [
          0,
          1
         ],
         "title": {
          "text": "Metric"
         }
        },
        "yaxis": {
         "anchor": "x",
         "domain": [
          0,
          1
         ],
         "range": [
          0,
          105
         ],
         "title": {
          "text": "Score (%)"
         }
        }
       }
      }
     },
     "metadata": {},
     "output_type": "display_data"
    }
   ],
   "source": [
    "# 1️⃣ Predictions\n",
    "# Logistic Regression\n",
    "y_pred_lr = model.predict(X_test)  # your pipeline\n",
    "\n",
    "# XGBoost\n",
    "y_pred_xgb_enc = xgb_model.predict(X_test_combined)\n",
    "y_pred_xgb = le.inverse_transform(y_pred_xgb_enc)\n",
    "\n",
    "# 2️⃣ Compute metrics\n",
    "metrics = {\n",
    "    'Model': ['Logistic Regression']*3 + ['XGBoost']*3,\n",
    "    'Metric': ['Accuracy', 'Macro F1', 'Weighted F1']*2,\n",
    "    'Value': [\n",
    "        accuracy_score(y_test, y_pred_lr),\n",
    "        f1_score(y_test, y_pred_lr, average='macro', zero_division=0),\n",
    "        f1_score(y_test, y_pred_lr, average='weighted', zero_division=0),\n",
    "        accuracy_score(y_test, y_pred_xgb),\n",
    "        f1_score(y_test, y_pred_xgb, average='macro', zero_division=0),\n",
    "        f1_score(y_test, y_pred_xgb, average='weighted', zero_division=0)\n",
    "    ]\n",
    "}\n",
    "\n",
    "df_metrics = pd.DataFrame(metrics)\n",
    "df_metrics['Value_percent'] = df_metrics['Value'] * 100  # convert to %\n",
    "\n",
    "# 3️⃣ Plot comparison\n",
    "fig = px.bar(\n",
    "    df_metrics,\n",
    "    x='Metric',\n",
    "    y='Value_percent',\n",
    "    color='Model',\n",
    "    barmode='group',\n",
    "    text='Value_percent',\n",
    "    labels={'Value_percent': 'Score (%)'},\n",
    "    title='Model Performance Comparison: Logistic Regression vs XGBoost'\n",
    ")\n",
    "\n",
    "fig.update_traces(texttemplate='%{text:.2f}%', textposition='outside')\n",
    "fig.update_layout(yaxis=dict(range=[0, 105]))\n",
    "fig.show()"
   ]
  },
  {
   "cell_type": "code",
   "execution_count": null,
   "id": "3e8e5dce",
   "metadata": {},
   "outputs": [],
   "source": [
    "# Features and labels\n",
    "X_text = df['po_description_clean'].tolist()\n",
    "y_labels = df['account_name_clean'].tolist()\n",
    "\n",
    "# Split dataset\n",
    "X_train_text, X_test_text, y_train_labels, y_test_labels = train_test_split(\n",
    "    X_text, y_labels, test_size=0.2, random_state=42, stratify=y_labels\n",
    ")"
   ]
  },
  {
   "cell_type": "code",
   "execution_count": null,
   "id": "b10cbe58",
   "metadata": {},
   "outputs": [],
   "source": [
    "label_encoder_bert = LabelEncoder()\n",
    "y_train_enc_bert = label_encoder_bert.fit_transform(y_train_labels)\n",
    "y_test_enc_bert = label_encoder_bert.transform(y_test_labels)\n",
    "num_classes_bert = len(label_encoder_bert.classes_)"
   ]
  },
  {
   "cell_type": "code",
   "execution_count": null,
   "id": "5462eb77",
   "metadata": {},
   "outputs": [
    {
     "data": {
      "application/vnd.jupyter.widget-view+json": {
       "model_id": "119230c577a2458b95fa41058e87c1aa",
       "version_major": 2,
       "version_minor": 0
      },
      "text/plain": [
       "tokenizer_config.json:   0%|          | 0.00/48.0 [00:00<?, ?B/s]"
      ]
     },
     "metadata": {},
     "output_type": "display_data"
    },
    {
     "data": {
      "application/vnd.jupyter.widget-view+json": {
       "model_id": "cc4d68c09df240c5b77dd8929aee1e72",
       "version_major": 2,
       "version_minor": 0
      },
      "text/plain": [
       "vocab.txt:   0%|          | 0.00/232k [00:00<?, ?B/s]"
      ]
     },
     "metadata": {},
     "output_type": "display_data"
    },
    {
     "data": {
      "application/vnd.jupyter.widget-view+json": {
       "model_id": "5a4cd9a238df4add88b44b4ee2d1f658",
       "version_major": 2,
       "version_minor": 0
      },
      "text/plain": [
       "tokenizer.json:   0%|          | 0.00/466k [00:00<?, ?B/s]"
      ]
     },
     "metadata": {},
     "output_type": "display_data"
    },
    {
     "data": {
      "application/vnd.jupyter.widget-view+json": {
       "model_id": "03ff133441d042978613959172fbe8d0",
       "version_major": 2,
       "version_minor": 0
      },
      "text/plain": [
       "config.json:   0%|          | 0.00/483 [00:00<?, ?B/s]"
      ]
     },
     "metadata": {},
     "output_type": "display_data"
    }
   ],
   "source": [
    "tokenizer_bert = DistilBertTokenizerFast.from_pretrained('distilbert-base-uncased')\n",
    "\n",
    "train_encodings_bert = tokenizer_bert(\n",
    "    X_train_text,\n",
    "    truncation=True,\n",
    "    padding=True,\n",
    "    max_length=128,\n",
    "    return_tensors='pt'\n",
    ")\n",
    "\n",
    "test_encodings_bert = tokenizer_bert(\n",
    "    X_test_text,\n",
    "    truncation=True,\n",
    "    padding=True,\n",
    "    max_length=128,\n",
    "    return_tensors='pt'\n",
    ")"
   ]
  },
  {
   "cell_type": "code",
   "execution_count": null,
   "id": "7e184011",
   "metadata": {},
   "outputs": [],
   "source": [
    "class POCDataset(torch.utils.data.Dataset):\n",
    "    def __init__(self, encodings, labels):\n",
    "        self.encodings = encodings\n",
    "        self.labels = labels\n",
    "\n",
    "    def __len__(self):\n",
    "        return len(self.labels)\n",
    "\n",
    "    def __getitem__(self, idx):\n",
    "        return {key: val[idx] for key, val in self.encodings.items()}, torch.tensor(self.labels[idx])\n",
    "\n",
    "train_dataset_bert = POCDataset(train_encodings_bert, y_train_enc_bert)\n",
    "test_dataset_bert = POCDataset(test_encodings_bert, y_test_enc_bert)"
   ]
  },
  {
   "cell_type": "code",
   "execution_count": null,
   "id": "f1179fa5",
   "metadata": {},
   "outputs": [],
   "source": [
    "model_bert = DistilBertForSequenceClassification.from_pretrained(\n",
    "    'distilbert-base-uncased',\n",
    "    num_labels=num_classes_bert\n",
    ")"
   ]
  },
  {
   "cell_type": "code",
   "execution_count": null,
   "id": "e29312c2",
   "metadata": {},
   "outputs": [],
   "source": [
    "train_loader_bert = DataLoader(train_dataset_bert, batch_size=16, shuffle=True)\n",
    "test_loader_bert = DataLoader(test_dataset_bert, batch_size=16)\n",
    "\n",
    "optimizer_bert = AdamW(model_bert.parameters(), lr=5e-5)\n",
    "\n",
    "# Use Metal backend on Mac M2 if available\n",
    "device_bert = torch.device('mps') if torch.backends.mps.is_available() else torch.device('cpu')\n",
    "model_bert.to(device_bert)"
   ]
  },
  {
   "cell_type": "code",
   "execution_count": null,
   "id": "b03bef18",
   "metadata": {},
   "outputs": [],
   "source": [
    "model_bert.train()\n",
    "for epoch in range(2):  # Increase to 3-5 for better accuracy\n",
    "    loop = tqdm(train_loader_bert, leave=True)\n",
    "    for batch in loop:\n",
    "        inputs_batch = {key: val.to(device_bert) for key, val in batch[0].items()}\n",
    "        labels_batch = batch[1].to(device_bert)\n",
    "\n",
    "        optimizer_bert.zero_grad()\n",
    "        outputs_batch = model_bert(**inputs_batch, labels=labels_batch)\n",
    "        loss_batch = outputs_batch.loss\n",
    "        loss_batch.backward()\n",
    "        optimizer_bert.step()\n",
    "\n",
    "        loop.set_description(f'Epoch {epoch+1}')\n",
    "        loop.set_postfix(loss=loss_batch.item())"
   ]
  },
  {
   "cell_type": "code",
   "execution_count": null,
   "id": "5078582d",
   "metadata": {},
   "outputs": [],
   "source": [
    "model_bert.eval()\n",
    "all_preds_bert = []\n",
    "\n",
    "with torch.no_grad():\n",
    "    for batch in test_loader_bert:\n",
    "        inputs_batch = {key: val.to(device_bert) for key, val in batch[0].items()}\n",
    "        outputs_batch = model_bert(**inputs_batch)\n",
    "        preds_batch = torch.argmax(outputs_batch.logits, dim=1)\n",
    "        all_preds_bert.extend(preds_batch.cpu().numpy())\n",
    "\n",
    "accuracy_bert = accuracy_score(y_test_enc_bert, all_preds_bert)\n",
    "print(f\"\\n=== DistilBERT Accuracy: {accuracy_bert:.2%} ===\\n\")\n",
    "print(classification_report(y_test_enc_bert, all_preds_bert, target_names=label_encoder_bert.classes_, zero_division=0))"
   ]
  }
 ],
 "metadata": {
  "kernelspec": {
   "display_name": "OKCO",
   "language": "python",
   "name": "okco"
  },
  "language_info": {
   "codemirror_mode": {
    "name": "ipython",
    "version": 3
   },
   "file_extension": ".py",
   "mimetype": "text/x-python",
   "name": "python",
   "nbconvert_exporter": "python",
   "pygments_lexer": "ipython3",
   "version": "3.13.7"
  }
 },
 "nbformat": 4,
 "nbformat_minor": 5
}
